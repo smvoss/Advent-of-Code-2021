{
 "cells": [
  {
   "cell_type": "markdown",
   "metadata": {
    "collapsed": true,
    "pycharm": {
     "name": "#%% md\n"
    }
   },
   "source": [
    "# Day 2: Dive!\n",
    "\n",
    "## Part 1\n",
    "\n",
    "Now, you need to figure out how to pilot this thing.\n",
    "\n",
    "It seems like the submarine can take a series of commands like forward 1, down 2, or up 3:\n",
    "\n",
    " - forward X increases the horizontal position by X units.\n",
    " - down X increases the depth by X units.\n",
    " - up X decreases the depth by X units.\n",
    "\n",
    "Note that since you're on a submarine, down and up affect your depth, and so they have the opposite result of what you might expect.\n",
    "\n",
    "The submarine seems to already have a planned course (your puzzle input). You should probably figure out where it's going. For example:\n",
    "\n",
    "```\n",
    "forward 5\n",
    "down 5\n",
    "forward 8\n",
    "up 3\n",
    "down 8\n",
    "forward 2\n",
    "```\n",
    "\n",
    "Your horizontal position and depth both start at 0. The steps above would then modify them as follows:\n",
    "\n",
    " - forward 5 adds 5 to your horizontal position, a total of 5.\n",
    " - down 5 adds 5 to your depth, resulting in a value of 5.\n",
    " - forward 8 adds 8 to your horizontal position, a total of 13.\n",
    " - up 3 decreases your depth by 3, resulting in a value of 2.\n",
    " - down 8 adds 8 to your depth, resulting in a value of 10.\n",
    " - forward 2 adds 2 to your horizontal position, a total of 15.\n",
    "\n",
    "After following these instructions, you would have a horizontal position of 15 and a depth of 10. (Multiplying these together produces 150.)\n",
    "\n",
    "Calculate the horizontal position and depth you would have after following the planned course. What do you get if you multiply your final horizontal position by your final depth?\n",
    "\n",
    "## Part 2\n",
    "\n",
    "Based on your calculations, the planned course doesn't seem to make any sense. You find the submarine manual and discover that the process is actually slightly more complicated.\n",
    "\n",
    "In addition to horizontal position and depth, you'll also need to track a third value, aim, which also starts at 0. The commands also mean something entirely different than you first thought:\n",
    "\n",
    " - down X increases your aim by X units.\n",
    " - up X decreases your aim by X units.\n",
    " - forward X does two things:\n",
    "   - It increases your horizontal position by X units.\n",
    "   - It increases your depth by your aim multiplied by X.\n",
    "\n",
    "Again note that since you're on a submarine, down and up do the opposite of what you might expect: \"down\" means aiming in the positive direction.\n",
    "\n",
    "Now, the above example does something different:\n",
    "\n",
    " - forward 5 adds 5 to your horizontal position, a total of 5. Because your aim is 0, your depth does not change.\n",
    " - down 5 adds 5 to your aim, resulting in a value of 5.\n",
    " - forward 8 adds 8 to your horizontal position, a total of 13. Because your aim is 5, your depth increases by 8*5=40.\n",
    " - up 3 decreases your aim by 3, resulting in a value of 2.\n",
    " - down 8 adds 8 to your aim, resulting in a value of 10.\n",
    " - forward 2 adds 2 to your horizontal position, a total of 15. Because your aim is 10, your depth increases by 2*10=20 to a total of 60.\n",
    "\n",
    "After following these new instructions, you would have a horizontal position of 15 and a depth of 60. (Multiplying these produces 900.)\n",
    "\n",
    "Using this new interpretation of the commands, calculate the horizontal position and depth you would have after following the planned course. What do you get if you multiply your final horizontal position by your final depth?"
   ]
  },
  {
   "cell_type": "code",
   "execution_count": 1,
   "outputs": [],
   "source": [
    "from enum import Enum\n",
    "\n",
    "\n",
    "class Submarine:\n",
    "\n",
    "    class Command:\n",
    "\n",
    "        class Direction(Enum):\n",
    "            UP = \"up\"\n",
    "            DOWN = \"down\"\n",
    "            FORWARD = \"forward\"\n",
    "\n",
    "        def __init__(self, direction: Direction, distance: int):\n",
    "            self.direction = direction\n",
    "            self.distance = distance\n",
    "\n",
    "        @classmethod\n",
    "        def from_string(cls, cmd: str):\n",
    "            cmd = cmd.split(\" \")\n",
    "            direction = cls.Direction(cmd[0])  # note: should do some actual validation here\n",
    "            pos = int(cmd[1])\n",
    "            return cls(direction, pos)\n",
    "\n",
    "    def __init__(self):\n",
    "        self.aim = 0\n",
    "        self.depth = 0\n",
    "        self.h_position = 0\n",
    "\n",
    "        self.commands = []\n",
    "\n",
    "    def __repr__(self):\n",
    "        return f\"horizontal position: {self.h_position}, depth: {self.depth}\"\n",
    "\n",
    "    def _move_now(self, cmd: Command):\n",
    "        if cmd.direction == self.Command.Direction.FORWARD:\n",
    "            self.h_position += cmd.distance\n",
    "            self.depth += self.aim * cmd.distance\n",
    "        elif cmd.direction == self.Command.Direction.DOWN:\n",
    "            self.aim += cmd.distance\n",
    "        elif cmd.direction == self.Command.Direction.UP:\n",
    "            self.aim -= cmd.distance\n",
    "\n",
    "    def move(self, cmd: str):\n",
    "        command = self.Command.from_string(cmd)\n",
    "        self._move_now(command)\n",
    "        self.commands.append(command)\n"
   ],
   "metadata": {
    "collapsed": false,
    "pycharm": {
     "name": "#%%\n"
    }
   }
  },
  {
   "cell_type": "code",
   "execution_count": 2,
   "outputs": [],
   "source": [
    "sub = Submarine()\n",
    "\n",
    "with open('input/day2/input.txt', 'r') as finput:\n",
    "    for line in finput.readlines():\n",
    "        sub.move(line)"
   ],
   "metadata": {
    "collapsed": false,
    "pycharm": {
     "name": "#%%\n"
    }
   }
  },
  {
   "cell_type": "code",
   "execution_count": 3,
   "outputs": [
    {
     "name": "stdout",
     "output_type": "stream",
     "text": [
      "The sub is at horizontal position: 1906, depth: 1021972\n",
      "  multiplied, you get 1947878632\n"
     ]
    }
   ],
   "source": [
    "print(f\"The sub is at {sub}\")\n",
    "print(f\"  multiplied, you get {sub.h_position * sub.depth}\")"
   ],
   "metadata": {
    "collapsed": false,
    "pycharm": {
     "name": "#%%\n"
    }
   }
  }
 ],
 "metadata": {
  "kernelspec": {
   "display_name": "Python 3",
   "language": "python",
   "name": "python3"
  },
  "language_info": {
   "codemirror_mode": {
    "name": "ipython",
    "version": 2
   },
   "file_extension": ".py",
   "mimetype": "text/x-python",
   "name": "python",
   "nbconvert_exporter": "python",
   "pygments_lexer": "ipython2",
   "version": "2.7.6"
  }
 },
 "nbformat": 4,
 "nbformat_minor": 0
}