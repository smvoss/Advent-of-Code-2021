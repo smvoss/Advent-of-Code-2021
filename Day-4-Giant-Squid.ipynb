{
 "cells": [
  {
   "cell_type": "markdown",
   "metadata": {
    "collapsed": true,
    "pycharm": {
     "name": "#%% md\n"
    }
   },
   "source": [
    "# Day 4: Giant Squid\n",
    "\n",
    "## Part 1\n",
    "\n",
    "You're already almost 1.5km (almost a mile) below the surface of the ocean, already so deep that you can't see any sunlight. What you can see, however, is a giant squid that has attached itself to the outside of your submarine.\n",
    "\n",
    "Maybe it wants to play bingo?\n",
    "\n",
    "Bingo is played on a set of boards each consisting of a 5x5 grid of numbers. Numbers are chosen at random, and the chosen number is marked on all boards on which it appears. (Numbers may not appear on all boards.) If all numbers in any row or any column of a board are marked, that board wins. (Diagonals don't count.)\n",
    "\n",
    "The submarine has a bingo subsystem to help passengers (currently, you and the giant squid) pass the time. It automatically generates a random order in which to draw numbers and a random set of boards (your puzzle input). For example:\n",
    "\n",
    "```\n",
    "7,4,9,5,11,17,23,2,0,14,21,24,10,16,13,6,15,25,12,22,18,20,8,19,3,26,1\n",
    "\n",
    "22 13 17 11  0\n",
    "8  2 23  4 24\n",
    "21  9 14 16  7\n",
    "6 10  3 18  5\n",
    "1 12 20 15 19\n",
    "\n",
    "3 15  0  2 22\n",
    "9 18 13 17  5\n",
    "19  8  7 25 23\n",
    "20 11 10 24  4\n",
    "14 21 16 12  6\n",
    "\n",
    "14 21 17 24  4\n",
    "10 16 15  9 19\n",
    "18  8 23 26 20\n",
    "22 11 13  6  5\n",
    "2  0 12  3  7\n",
    "```\n",
    "\n",
    "After the first five numbers are drawn (7, 4, 9, 5, and 11), there are no winners, but the boards are marked as follows (shown here adjacent to each other to save space):\n",
    "\n",
    "```\n",
    "22 13 17 11  0         3 15  0  2 22        14 21 17 24  4\n",
    "8  2 23  4 24         9 18 13 17  5        10 16 15  9 19\n",
    "21  9 14 16  7        19  8  7 25 23        18  8 23 26 20\n",
    "6 10  3 18  5        20 11 10 24  4        22 11 13  6  5\n",
    "1 12 20 15 19        14 21 16 12  6         2  0 12  3  7\n",
    "```\n",
    "\n",
    "After the next six numbers are drawn (17, 23, 2, 0, 14, and 21), there are still no winners:\n",
    "\n",
    "```\n",
    "22 13 17 11  0         3 15  0  2 22        14 21 17 24  4\n",
    "8  2 23  4 24         9 18 13 17  5        10 16 15  9 19\n",
    "21  9 14 16  7        19  8  7 25 23        18  8 23 26 20\n",
    "6 10  3 18  5        20 11 10 24  4        22 11 13  6  5\n",
    "1 12 20 15 19        14 21 16 12  6         2  0 12  3  7\n",
    "```\n",
    "\n",
    "Finally, 24 is drawn:\n",
    "\n",
    "```\n",
    "22 13 17 11  0         3 15  0  2 22        14 21 17 24  4\n",
    "8  2 23  4 24         9 18 13 17  5        10 16 15  9 19\n",
    "21  9 14 16  7        19  8  7 25 23        18  8 23 26 20\n",
    "6 10  3 18  5        20 11 10 24  4        22 11 13  6  5\n",
    "1 12 20 15 19        14 21 16 12  6         2  0 12  3  7\n",
    "```\n",
    "\n",
    "At this point, the third board wins because it has at least one complete row or column of marked numbers (in this case, the entire top row is marked: 14 21 17 24 4).\n",
    "\n",
    "The score of the winning board can now be calculated. Start by finding the sum of all unmarked numbers on that board; in this case, the sum is 188. Then, multiply that sum by the number that was just called when the board won, 24, to get the final score, 188 * 24 = 4512.\n",
    "\n",
    "To guarantee victory against the giant squid, figure out which board will win first. What will your final score be if you choose that board?"
   ]
  },
  {
   "cell_type": "code",
   "execution_count": 1,
   "outputs": [],
   "source": [
    "with open('input/day4/input.txt', 'r') as finput:\n",
    "    raw_input = finput.readlines()"
   ],
   "metadata": {
    "collapsed": false,
    "pycharm": {
     "name": "#%%\n"
    }
   }
  },
  {
   "cell_type": "code",
   "execution_count": 2,
   "outputs": [],
   "source": [
    "class Board:\n",
    "    class BoardNum:\n",
    "        def __init__(self, number):\n",
    "            self.number = number\n",
    "            self.found = False\n",
    "\n",
    "        def __repr__(self):\n",
    "            return f\"Number: {self.number} - Found: {self.found}\"\n",
    "\n",
    "    def __init__(self):\n",
    "        self.board = []  # type: [[Board.BoardNum]]\n",
    "        self.has_bingo = False\n",
    "        self.last_stamp = -1\n",
    "\n",
    "    def add_row(self, row: str):\n",
    "        self.board.append([self.BoardNum(item)\n",
    "                           for item in row.split()])\n",
    "\n",
    "    def _check_for_bingo(self):\n",
    "        for row in self.board:\n",
    "            all_found = True\n",
    "            for col in row:  # type: Board.BoardNum\n",
    "                if not col.found:\n",
    "                    all_found = False\n",
    "\n",
    "            if all_found:\n",
    "                self.has_bingo = True\n",
    "                return True\n",
    "\n",
    "        for idx in range(len(self.board)):\n",
    "            all_found = True\n",
    "            for idy in range(len(self.board)):\n",
    "                if not self.board[idy][idx].found:\n",
    "                    all_found = False\n",
    "\n",
    "            if all_found:\n",
    "                self.has_bingo = True\n",
    "                return True\n",
    "\n",
    "        return False\n",
    "\n",
    "    def stamp(self, num: int) -> bool:\n",
    "        if self.has_bingo:\n",
    "            raise ValueError(\"uhhh\")\n",
    "        self.last_stamp = num\n",
    "        for row in self.board:  # type: [Board.BoardNum]\n",
    "            for col in row:  # type: Board.BoardNum\n",
    "                if col.number == num:\n",
    "                    col.found = True\n",
    "                    return self._check_for_bingo()\n",
    "        return False\n",
    "\n",
    "    def get_score(self):\n",
    "        acc = 0\n",
    "        for row in self.board:  # type: [Board.BoardNum]\n",
    "            for col in row:  # type: Board.BoardNum\n",
    "                if not col.found:\n",
    "                    acc += int(col.number)\n",
    "\n",
    "        return acc * int(self.last_stamp)\n",
    "\n",
    "    def __repr__(self):\n",
    "        return f\"Has Bingo: {self.has_bingo}\"\n",
    "\n",
    "\n",
    "class SubBingo:\n",
    "\n",
    "    def __init__(self):\n",
    "        self.boards = list()  # type: [Board]\n",
    "        self.winners = list()\n",
    "\n",
    "    def add_boards(self, board_list: list):\n",
    "        board = None\n",
    "        for line in board_list:\n",
    "            if not line:\n",
    "                # empty line means new board starting\n",
    "                if board:\n",
    "                    self.boards.append(board)\n",
    "\n",
    "                board = Board()\n",
    "            else:\n",
    "                board.add_row(line)\n",
    "\n",
    "        if board.board:  # if we ran out of input, and had a board in process (no empty line after), save it\n",
    "            self.boards.append(board)\n",
    "\n",
    "    def play_bingo(self, cmds: str, cont_after_win: bool=False):\n",
    "        for num in cmds.split(','):\n",
    "            for idx, board in enumerate(self.boards):\n",
    "                if not board.has_bingo:\n",
    "                    if board.stamp(num):\n",
    "                        print(f\"Bingo on {idx}! Their score was {board.get_score()}\")\n",
    "                        self.winners.append((board, board.get_score))\n",
    "                        if not cont_after_win:\n",
    "                            return\n",
    "\n",
    "    def __repr__(self):\n",
    "        return f\"Number of boards: {len(self.boards)}\""
   ],
   "metadata": {
    "collapsed": false,
    "pycharm": {
     "name": "#%%\n"
    }
   }
  },
  {
   "cell_type": "code",
   "execution_count": 3,
   "outputs": [],
   "source": [
    "# line 1 is the bingo game string, the rest are boards\n",
    "commands = raw_input[0]\n",
    "boards = [x.strip() for x in raw_input[1:]]"
   ],
   "metadata": {
    "collapsed": false,
    "pycharm": {
     "name": "#%%\n"
    }
   }
  },
  {
   "cell_type": "code",
   "execution_count": 4,
   "outputs": [],
   "source": [
    "bingo = SubBingo()\n",
    "bingo.add_boards(boards)"
   ],
   "metadata": {
    "collapsed": false,
    "pycharm": {
     "name": "#%%\n"
    }
   }
  },
  {
   "cell_type": "code",
   "execution_count": 5,
   "outputs": [
    {
     "name": "stdout",
     "output_type": "stream",
     "text": [
      "Bingo on 41! Their score was 89001\n"
     ]
    }
   ],
   "source": [
    "bingo.play_bingo(commands)"
   ],
   "metadata": {
    "collapsed": false,
    "pycharm": {
     "name": "#%%\n"
    }
   }
  },
  {
   "cell_type": "markdown",
   "source": [
    "## Part Two\n",
    "\n",
    "On the other hand, it might be wise to try a different strategy: let the giant squid win.\n",
    "\n",
    "You aren't sure how many bingo boards a giant squid could play at once, so rather than waste time counting its arms, the safe thing to do is to figure out which board will win last and choose that one. That way, no matter which boards it picks, it will win for sure.\n",
    "\n",
    "In the above example, the second board is the last to win, which happens after 13 is eventually called and its middle column is completely marked. If you were to keep playing until this point, the second board would have a sum of unmarked numbers equal to 148 for a final score of 148 * 13 = 1924.\n",
    "\n",
    "Figure out which board will win last. Once it wins, what would its final score be?\n"
   ],
   "metadata": {
    "collapsed": false,
    "pycharm": {
     "name": "#%% md\n"
    }
   }
  },
  {
   "cell_type": "code",
   "execution_count": 6,
   "outputs": [
    {
     "name": "stdout",
     "output_type": "stream",
     "text": [
      "Bingo on 41! Their score was 89001\n",
      "Bingo on 54! Their score was 42630\n",
      "Bingo on 1! Their score was 45122\n",
      "Bingo on 68! Their score was 71111\n",
      "Bingo on 72! Their score was 48510\n",
      "Bingo on 78! Their score was 19840\n",
      "Bingo on 86! Their score was 21450\n",
      "Bingo on 92! Their score was 71616\n",
      "Bingo on 32! Their score was 65455\n",
      "Bingo on 37! Their score was 62700\n",
      "Bingo on 85! Their score was 62700\n",
      "Bingo on 21! Their score was 26624\n",
      "Bingo on 53! Their score was 39520\n",
      "Bingo on 59! Their score was 35646\n",
      "Bingo on 31! Their score was 18240\n",
      "Bingo on 47! Their score was 17600\n",
      "Bingo on 24! Their score was 28782\n",
      "Bingo on 82! Their score was 26784\n",
      "Bingo on 94! Their score was 26676\n",
      "Bingo on 0! Their score was 44184\n",
      "Bingo on 9! Their score was 28140\n",
      "Bingo on 17! Their score was 24696\n",
      "Bingo on 62! Their score was 28980\n",
      "Bingo on 65! Their score was 51912\n",
      "Bingo on 87! Their score was 32760\n",
      "Bingo on 57! Their score was 27730\n",
      "Bingo on 76! Their score was 32686\n",
      "Bingo on 77! Their score was 31506\n",
      "Bingo on 89! Their score was 11375\n",
      "Bingo on 5! Their score was 30704\n",
      "Bingo on 49! Their score was 42180\n",
      "Bingo on 71! Their score was 43396\n",
      "Bingo on 95! Their score was 39672\n",
      "Bingo on 80! Their score was 16965\n",
      "Bingo on 14! Their score was 9160\n",
      "Bingo on 42! Their score was 9220\n",
      "Bingo on 50! Their score was 9000\n",
      "Bingo on 38! Their score was 15888\n",
      "Bingo on 93! Their score was 39120\n",
      "Bingo on 7! Their score was 5607\n",
      "Bingo on 18! Their score was 3978\n",
      "Bingo on 39! Their score was 5895\n",
      "Bingo on 73! Their score was 13636\n",
      "Bingo on 75! Their score was 15932\n",
      "Bingo on 98! Their score was 15624\n",
      "Bingo on 2! Their score was 18369\n",
      "Bingo on 11! Their score was 10569\n",
      "Bingo on 28! Their score was 15951\n",
      "Bingo on 79! Their score was 15054\n",
      "Bingo on 8! Their score was 24290\n",
      "Bingo on 66! Their score was 28210\n",
      "Bingo on 35! Their score was 27342\n",
      "Bingo on 56! Their score was 30177\n",
      "Bingo on 69! Their score was 16884\n",
      "Bingo on 23! Their score was 23856\n",
      "Bingo on 25! Their score was 21056\n",
      "Bingo on 51! Their score was 20272\n",
      "Bingo on 52! Their score was 23464\n",
      "Bingo on 99! Their score was 38360\n",
      "Bingo on 20! Their score was 1790\n",
      "Bingo on 36! Their score was 2600\n",
      "Bingo on 40! Their score was 2475\n",
      "Bingo on 64! Their score was 2375\n",
      "Bingo on 26! Their score was 36516\n",
      "Bingo on 45! Their score was 28492\n",
      "Bingo on 48! Their score was 37332\n",
      "Bingo on 67! Their score was 27812\n",
      "Bingo on 84! Their score was 18156\n",
      "Bingo on 27! Their score was 16958\n",
      "Bingo on 6! Their score was 10088\n",
      "Bingo on 10! Their score was 9828\n",
      "Bingo on 33! Their score was 8944\n",
      "Bingo on 46! Their score was 7566\n",
      "Bingo on 15! Their score was 15276\n",
      "Bingo on 43! Their score was 25728\n",
      "Bingo on 96! Their score was 17353\n",
      "Bingo on 16! Their score was 16642\n",
      "Bingo on 19! Their score was 14628\n",
      "Bingo on 63! Their score was 20193\n",
      "Bingo on 70! Their score was 14787\n",
      "Bingo on 81! Their score was 24751\n",
      "Bingo on 88! Their score was 19875\n",
      "Bingo on 12! Their score was 11739\n",
      "Bingo on 30! Their score was 18920\n",
      "Bingo on 91! Their score was 14878\n",
      "Bingo on 55! Their score was 17732\n",
      "Bingo on 13! Their score was 5117\n",
      "Bingo on 60! Their score was 6545\n",
      "Bingo on 3! Their score was 28755\n",
      "Bingo on 4! Their score was 13689\n",
      "Bingo on 29! Their score was 37017\n",
      "Bingo on 34! Their score was 44955\n",
      "Bingo on 97! Their score was 28674\n",
      "Bingo on 22! Their score was 18720\n",
      "Bingo on 74! Their score was 19840\n",
      "Bingo on 58! Their score was 20020\n",
      "Bingo on 61! Their score was 21567\n",
      "Bingo on 83! Their score was 25480\n",
      "Bingo on 90! Their score was 15360\n",
      "Bingo on 44! Their score was 7296\n"
     ]
    }
   ],
   "source": [
    "p2bingo = SubBingo()\n",
    "p2bingo.add_boards(boards)\n",
    "\n",
    "p2bingo.play_bingo(commands, cont_after_win=True)"
   ],
   "metadata": {
    "collapsed": false,
    "pycharm": {
     "name": "#%%\n"
    }
   }
  }
 ],
 "metadata": {
  "kernelspec": {
   "display_name": "Python 3",
   "language": "python",
   "name": "python3"
  },
  "language_info": {
   "codemirror_mode": {
    "name": "ipython",
    "version": 2
   },
   "file_extension": ".py",
   "mimetype": "text/x-python",
   "name": "python",
   "nbconvert_exporter": "python",
   "pygments_lexer": "ipython2",
   "version": "2.7.6"
  }
 },
 "nbformat": 4,
 "nbformat_minor": 0
}