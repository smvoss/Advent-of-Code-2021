{
 "cells": [
  {
   "cell_type": "markdown",
   "metadata": {
    "collapsed": true,
    "pycharm": {
     "name": "#%% md\n"
    }
   },
   "source": [
    "# Day 5: Hydrothermal Venture\n",
    "\n",
    "## Part 1\n",
    "\n",
    "You come across a field of hydrothermal vents on the ocean floor! These vents constantly produce large, opaque clouds, so it would be best to avoid them if possible.\n",
    "\n",
    "They tend to form in lines; the submarine helpfully produces a list of nearby lines of vents (your puzzle input) for you to review. For example:\n",
    "\n",
    "```\n",
    "0,9 -> 5,9\n",
    "8,0 -> 0,8\n",
    "9,4 -> 3,4\n",
    "2,2 -> 2,1\n",
    "7,0 -> 7,4\n",
    "6,4 -> 2,0\n",
    "0,9 -> 2,9\n",
    "3,4 -> 1,4\n",
    "0,0 -> 8,8\n",
    "5,5 -> 8,2\n",
    "```\n",
    "\n",
    "Each line of vents is given as a line segment in the format x1,y1 -> x2,y2 where x1,y1 are the coordinates of one end the line segment and x2,y2 are the coordinates of the other end. These line segments include the points at both ends. In other words:\n",
    "\n",
    "    An entry like 1,1 -> 1,3 covers points 1,1, 1,2, and 1,3.\n",
    "    An entry like 9,7 -> 7,7 covers points 9,7, 8,7, and 7,7.\n",
    "\n",
    "For now, only consider horizontal and vertical lines: lines where either x1 = x2 or y1 = y2.\n",
    "\n",
    "So, the horizontal and vertical lines from the above list would produce the following diagram:\n",
    "\n",
    "```\n",
    ".......1..\n",
    "..1....1..\n",
    "..1....1..\n",
    ".......1..\n",
    ".112111211\n",
    "..........\n",
    "..........\n",
    "..........\n",
    "..........\n",
    "222111....\n",
    "```\n",
    "\n",
    "In this diagram, the top left corner is 0,0 and the bottom right corner is 9,9. Each position is shown as the number of lines which cover that point or . if no line covers that point. The top-left pair of 1s, for example, comes from 2,2 -> 2,1; the very bottom row is formed by the overlapping lines 0,9 -> 5,9 and 0,9 -> 2,9.\n",
    "\n",
    "To avoid the most dangerous areas, you need to determine the number of points where at least two lines overlap. In the above example, this is anywhere in the diagram with a 2 or larger - a total of 5 points.\n",
    "\n",
    "Consider only horizontal and vertical lines. At how many points do at least two lines overlap?\n",
    "\n",
    "Your puzzle answer was `7473`."
   ]
  },
  {
   "cell_type": "code",
   "execution_count": 1,
   "outputs": [],
   "source": [
    "with open('input/day5/input.txt', 'r') as finput:\n",
    "    raw_input = [x.strip() for x in finput.readlines()]"
   ],
   "metadata": {
    "collapsed": false,
    "pycharm": {
     "name": "#%%\n"
    }
   }
  },
  {
   "cell_type": "code",
   "execution_count": 2,
   "outputs": [],
   "source": [
    "class Point:\n",
    "    def __init__(self, x, y):\n",
    "        self.x = int(x)\n",
    "        self.y = int(y)\n",
    "\n",
    "    def __repr__(self):\n",
    "        return f\"({self.x},{self.y})\"\n",
    "\n",
    "    def __sub__(self, other):\n",
    "        from math import sqrt\n",
    "        return sqrt((other.x - self.x)**2 + (other.y - self.y)**2)\n",
    "\n",
    "    def __eq__(self, other):\n",
    "        return self.x == other.x and self.y == other.y\n",
    "\n",
    "class Line:\n",
    "    def __init__(self, x1, y1, x2, y2):\n",
    "        self.start = Point(x1, y1)\n",
    "        self.end = Point(x2, y2)\n",
    "\n",
    "    @classmethod\n",
    "    def from_string(cls, point_map: str):\n",
    "        start, end = point_map.split(\" -> \")\n",
    "        x1, y1 = start.split(\",\")\n",
    "        x2, y2 = end.split(\",\")\n",
    "        return cls(x1, y1, x2, y2)\n",
    "\n",
    "    @property\n",
    "    def length(self):\n",
    "        return self.start - self.end\n",
    "\n",
    "    @property\n",
    "    def horizontal(self):\n",
    "        return self.start.y == self.end.y\n",
    "\n",
    "    @property\n",
    "    def vertical(self):\n",
    "        return self.start.x == self.end.x\n",
    "\n",
    "    @property\n",
    "    def v_or_h(self):\n",
    "        return self.horizontal or self.vertical\n",
    "\n",
    "    def get_all_points(self):\n",
    "        if self.horizontal:\n",
    "            incr = 1 if self.start.x - self.end.x > 0 else -1\n",
    "            for x in range(self.end.x, self.start.x + incr, incr):\n",
    "                yield Point(x, self.start.y)\n",
    "        elif self.vertical:\n",
    "            incr = 1 if self.start.y - self.end.y > 0 else -1\n",
    "            for y in range(self.end.y, self.start.y + incr, incr):\n",
    "                yield Point(self.start.x, y)\n",
    "        else:\n",
    "            raise NotImplementedError(\"Only vertical or horizontal lines support getting points\")\n",
    "\n",
    "\n",
    "    def __repr__(self):\n",
    "        return f\"Length: {self.length} VorH: {self.v_or_h} From: {self.start} To: {self.end}\"\n",
    "\n",
    "class Map:\n",
    "\n",
    "    MAX_SIZE = 1000\n",
    "\n",
    "    def __init__(self, line_class=Line, point_class=Point):\n",
    "        self.coords = [[0 for x in range(self.MAX_SIZE)] for x in range(self.MAX_SIZE)]\n",
    "        self.lines = list()\n",
    "        self.hotspots = 0\n",
    "\n",
    "        self.line_class = line_class\n",
    "        self.point_class = point_class\n",
    "\n",
    "    def load_line(self, line: str):\n",
    "        self.lines.append(self.line_class.from_string(line))\n",
    "\n",
    "    def load_lines(self, lines: [str]):\n",
    "        for line in lines:\n",
    "            self.load_line(line)\n",
    "\n",
    "    def map_lines(self):\n",
    "        for line in self.lines:\n",
    "            try:\n",
    "                for point in line.get_all_points():\n",
    "                    if self.coords[point.x][point.y] == 1:\n",
    "                        self.hotspots += 1\n",
    "\n",
    "                    self.coords[point.x][point.y] += 1\n",
    "            except NotImplementedError:\n",
    "                # we're okay with this, not all lines are supported always\n",
    "                continue"
   ],
   "metadata": {
    "collapsed": false,
    "pycharm": {
     "name": "#%%\n"
    }
   }
  },
  {
   "cell_type": "code",
   "execution_count": 3,
   "outputs": [],
   "source": [
    "vent_map = Map()\n",
    "vent_map.load_lines(raw_input)"
   ],
   "metadata": {
    "collapsed": false,
    "pycharm": {
     "name": "#%%\n"
    }
   }
  },
  {
   "cell_type": "code",
   "execution_count": 4,
   "outputs": [],
   "source": [
    "vent_map.map_lines()"
   ],
   "metadata": {
    "collapsed": false,
    "pycharm": {
     "name": "#%%\n"
    }
   }
  },
  {
   "cell_type": "code",
   "execution_count": 5,
   "outputs": [
    {
     "name": "stdout",
     "output_type": "stream",
     "text": [
      "There are 7473 found hotspots.\n"
     ]
    }
   ],
   "source": [
    "print(f\"There are {vent_map.hotspots} found hotspots.\")"
   ],
   "metadata": {
    "collapsed": false,
    "pycharm": {
     "name": "#%%\n"
    }
   }
  },
  {
   "cell_type": "markdown",
   "source": [
    "## Part Two\n",
    "\n",
    "Unfortunately, considering only horizontal and vertical lines doesn't give you the full picture; you need to also consider diagonal lines.\n",
    "\n",
    "Because of the limits of the hydrothermal vent mapping system, the lines in your list will only ever be horizontal, vertical, or a diagonal line at exactly 45 degrees. In other words:\n",
    "\n",
    "    An entry like 1,1 -> 3,3 covers points 1,1, 2,2, and 3,3.\n",
    "    An entry like 9,7 -> 7,9 covers points 9,7, 8,8, and 7,9.\n",
    "\n",
    "Considering all lines from the above example would now produce the following diagram:\n",
    "\n",
    "```\n",
    "1.1....11.\n",
    ".111...2..\n",
    "..2.1.111.\n",
    "...1.2.2..\n",
    ".112313211\n",
    "...1.2....\n",
    "..1...1...\n",
    ".1.....1..\n",
    "1.......1.\n",
    "222111....\n",
    "```\n",
    "\n",
    "You still need to determine the number of points where at least two lines overlap. In the above example, this is still anywhere in the diagram with a 2 or larger - now a total of 12 points.\n",
    "\n",
    "Consider all of the lines. At how many points do at least two lines overlap?\n",
    "\n",
    "Your puzzle answer was `24164`."
   ],
   "metadata": {
    "collapsed": false,
    "pycharm": {
     "name": "#%% md\n"
    }
   }
  },
  {
   "cell_type": "code",
   "execution_count": 6,
   "outputs": [],
   "source": [
    "class LineP2(Line):\n",
    "\n",
    "    @property\n",
    "    def diagonal(self):\n",
    "        return self.slope == 1 or self.slope == -1\n",
    "\n",
    "    @property\n",
    "    def slope(self):\n",
    "        ydiff = (self.end.y - self.start.y)\n",
    "        xdiff = (self.end.x - self.start.x)\n",
    "        return ydiff / xdiff if xdiff else None\n",
    "\n",
    "    @property\n",
    "    def y_intercept(self):\n",
    "        return self.start.y - self.slope * self.start.x\n",
    "\n",
    "    def get_all_points(self):\n",
    "        if self.diagonal:\n",
    "            xincr = 1 if self.end.x - self.start.x > 0 else -1\n",
    "            yincr = 1 if self.end.y - self.start.y > 0 else -1\n",
    "\n",
    "            cur = self.start\n",
    "            yield cur  # we'll be modifying it immediately in the loop, so yield first\n",
    "\n",
    "            while cur != self.end:\n",
    "                cur = Point(cur.x + xincr, cur.y + yincr)\n",
    "                yield cur\n",
    "        elif self.v_or_h:\n",
    "            yield from super().get_all_points()\n",
    "        else:\n",
    "            raise NotImplementedError(\"Only vertical, horizontal, diagonal lines support getting points\")\n",
    "\n",
    "    def __repr__(self):\n",
    "        return f\"Length: {self.length} Slope: {self.slope} From: {self.start} To: {self.end}\""
   ],
   "metadata": {
    "collapsed": false,
    "pycharm": {
     "name": "#%%\n"
    }
   }
  },
  {
   "cell_type": "code",
   "execution_count": 7,
   "outputs": [],
   "source": [
    "vent_map_p2 = Map(line_class=LineP2)\n",
    "vent_map_p2.load_lines(raw_input)"
   ],
   "metadata": {
    "collapsed": false,
    "pycharm": {
     "name": "#%%\n"
    }
   }
  },
  {
   "cell_type": "code",
   "execution_count": 8,
   "outputs": [],
   "source": [
    "vent_map_p2.map_lines()"
   ],
   "metadata": {
    "collapsed": false,
    "pycharm": {
     "name": "#%%\n"
    }
   }
  },
  {
   "cell_type": "code",
   "execution_count": 9,
   "outputs": [
    {
     "name": "stdout",
     "output_type": "stream",
     "text": [
      "There are 24164 found hotspots.\n"
     ]
    }
   ],
   "source": [
    "print(f\"There are {vent_map_p2.hotspots} found hotspots.\")"
   ],
   "metadata": {
    "collapsed": false,
    "pycharm": {
     "name": "#%%\n"
    }
   }
  }
 ],
 "metadata": {
  "kernelspec": {
   "display_name": "Python 3",
   "language": "python",
   "name": "python3"
  },
  "language_info": {
   "codemirror_mode": {
    "name": "ipython",
    "version": 2
   },
   "file_extension": ".py",
   "mimetype": "text/x-python",
   "name": "python",
   "nbconvert_exporter": "python",
   "pygments_lexer": "ipython2",
   "version": "2.7.6"
  }
 },
 "nbformat": 4,
 "nbformat_minor": 0
}